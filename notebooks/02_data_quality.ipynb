{
 "cells": [
  {
   "cell_type": "code",
   "execution_count": 3,
   "id": "3719e6e6",
   "metadata": {},
   "outputs": [],
   "source": [
    "import pandas as pd\n",
    "import numpy as np\n",
    "from load_data import load_data"
   ]
  },
  {
   "cell_type": "code",
   "execution_count": 4,
   "id": "9508c193",
   "metadata": {},
   "outputs": [],
   "source": [
    "df= load_data()"
   ]
  },
  {
   "cell_type": "code",
   "execution_count": null,
   "id": "7fb4085a",
   "metadata": {},
   "outputs": [
    {
     "data": {
      "text/plain": [
       "order_id             0\n",
       "customer_id          0\n",
       "product_category     0\n",
       "product_name         0\n",
       "quantity             0\n",
       "unit_price           0\n",
       "order_date           0\n",
       "customer_age         0\n",
       "customer_region      0\n",
       "shipping_cost        0\n",
       "discount_applied     0\n",
       "total_amount         0\n",
       "discounted_amount    0\n",
       "final_amount         0\n",
       "order_month          0\n",
       "order_quarter        0\n",
       "dtype: int64"
      ]
     },
     "execution_count": 5,
     "metadata": {},
     "output_type": "execute_result"
    }
   ],
   "source": [
    "# Check for missing values in all columns\n",
    "df.isnull().sum()"
   ]
  },
  {
   "cell_type": "code",
   "execution_count": null,
   "id": "838d4e33",
   "metadata": {},
   "outputs": [
    {
     "data": {
      "text/plain": [
       "np.int64(0)"
      ]
     },
     "execution_count": 6,
     "metadata": {},
     "output_type": "execute_result"
    }
   ],
   "source": [
    "# Identify any duplicate\n",
    "df.duplicated().sum()"
   ]
  },
  {
   "cell_type": "code",
   "execution_count": null,
   "id": "d0fb7ea7",
   "metadata": {},
   "outputs": [
    {
     "data": {
      "text/html": [
       "<div>\n",
       "<style scoped>\n",
       "    .dataframe tbody tr th:only-of-type {\n",
       "        vertical-align: middle;\n",
       "    }\n",
       "\n",
       "    .dataframe tbody tr th {\n",
       "        vertical-align: top;\n",
       "    }\n",
       "\n",
       "    .dataframe thead th {\n",
       "        text-align: right;\n",
       "    }\n",
       "</style>\n",
       "<table border=\"1\" class=\"dataframe\">\n",
       "  <thead>\n",
       "    <tr style=\"text-align: right;\">\n",
       "      <th></th>\n",
       "      <th>quantity</th>\n",
       "      <th>unit_price</th>\n",
       "      <th>customer_age</th>\n",
       "      <th>shipping_cost</th>\n",
       "      <th>discount_applied</th>\n",
       "      <th>total_amount</th>\n",
       "      <th>discounted_amount</th>\n",
       "      <th>final_amount</th>\n",
       "      <th>order_month</th>\n",
       "      <th>order_quarter</th>\n",
       "    </tr>\n",
       "  </thead>\n",
       "  <tbody>\n",
       "    <tr>\n",
       "      <th>count</th>\n",
       "      <td>1000.000000</td>\n",
       "      <td>1000.000000</td>\n",
       "      <td>1000.00000</td>\n",
       "      <td>1000.000000</td>\n",
       "      <td>1000.000000</td>\n",
       "      <td>1000.000000</td>\n",
       "      <td>1000.000000</td>\n",
       "      <td>1000.000000</td>\n",
       "      <td>1000.000000</td>\n",
       "      <td>1000.00000</td>\n",
       "    </tr>\n",
       "    <tr>\n",
       "      <th>mean</th>\n",
       "      <td>3.038000</td>\n",
       "      <td>104.660750</td>\n",
       "      <td>43.16700</td>\n",
       "      <td>14.906120</td>\n",
       "      <td>6.730000</td>\n",
       "      <td>318.065160</td>\n",
       "      <td>297.466176</td>\n",
       "      <td>312.372296</td>\n",
       "      <td>6.499000</td>\n",
       "      <td>2.51000</td>\n",
       "    </tr>\n",
       "    <tr>\n",
       "      <th>std</th>\n",
       "      <td>1.430595</td>\n",
       "      <td>54.162115</td>\n",
       "      <td>14.76025</td>\n",
       "      <td>5.800577</td>\n",
       "      <td>5.821597</td>\n",
       "      <td>234.842625</td>\n",
       "      <td>222.282285</td>\n",
       "      <td>222.165918</td>\n",
       "      <td>3.480246</td>\n",
       "      <td>1.12123</td>\n",
       "    </tr>\n",
       "    <tr>\n",
       "      <th>min</th>\n",
       "      <td>1.000000</td>\n",
       "      <td>10.120000</td>\n",
       "      <td>18.00000</td>\n",
       "      <td>5.030000</td>\n",
       "      <td>0.000000</td>\n",
       "      <td>11.950000</td>\n",
       "      <td>10.718500</td>\n",
       "      <td>24.775000</td>\n",
       "      <td>1.000000</td>\n",
       "      <td>1.00000</td>\n",
       "    </tr>\n",
       "    <tr>\n",
       "      <th>25%</th>\n",
       "      <td>2.000000</td>\n",
       "      <td>57.650000</td>\n",
       "      <td>31.00000</td>\n",
       "      <td>9.867500</td>\n",
       "      <td>0.000000</td>\n",
       "      <td>123.675000</td>\n",
       "      <td>114.892125</td>\n",
       "      <td>128.294375</td>\n",
       "      <td>4.000000</td>\n",
       "      <td>2.00000</td>\n",
       "    </tr>\n",
       "    <tr>\n",
       "      <th>50%</th>\n",
       "      <td>3.000000</td>\n",
       "      <td>105.045000</td>\n",
       "      <td>43.00000</td>\n",
       "      <td>14.860000</td>\n",
       "      <td>5.000000</td>\n",
       "      <td>259.210000</td>\n",
       "      <td>244.931750</td>\n",
       "      <td>258.123750</td>\n",
       "      <td>6.000000</td>\n",
       "      <td>2.00000</td>\n",
       "    </tr>\n",
       "    <tr>\n",
       "      <th>75%</th>\n",
       "      <td>4.000000</td>\n",
       "      <td>150.390000</td>\n",
       "      <td>56.00000</td>\n",
       "      <td>20.130000</td>\n",
       "      <td>10.000000</td>\n",
       "      <td>483.945000</td>\n",
       "      <td>451.623000</td>\n",
       "      <td>462.295000</td>\n",
       "      <td>10.000000</td>\n",
       "      <td>4.00000</td>\n",
       "    </tr>\n",
       "    <tr>\n",
       "      <th>max</th>\n",
       "      <td>5.000000</td>\n",
       "      <td>199.920000</td>\n",
       "      <td>69.00000</td>\n",
       "      <td>24.990000</td>\n",
       "      <td>20.000000</td>\n",
       "      <td>979.600000</td>\n",
       "      <td>968.700000</td>\n",
       "      <td>976.110000</td>\n",
       "      <td>12.000000</td>\n",
       "      <td>4.00000</td>\n",
       "    </tr>\n",
       "  </tbody>\n",
       "</table>\n",
       "</div>"
      ],
      "text/plain": [
       "          quantity   unit_price  customer_age  shipping_cost  \\\n",
       "count  1000.000000  1000.000000    1000.00000    1000.000000   \n",
       "mean      3.038000   104.660750      43.16700      14.906120   \n",
       "std       1.430595    54.162115      14.76025       5.800577   \n",
       "min       1.000000    10.120000      18.00000       5.030000   \n",
       "25%       2.000000    57.650000      31.00000       9.867500   \n",
       "50%       3.000000   105.045000      43.00000      14.860000   \n",
       "75%       4.000000   150.390000      56.00000      20.130000   \n",
       "max       5.000000   199.920000      69.00000      24.990000   \n",
       "\n",
       "       discount_applied  total_amount  discounted_amount  final_amount  \\\n",
       "count       1000.000000   1000.000000        1000.000000   1000.000000   \n",
       "mean           6.730000    318.065160         297.466176    312.372296   \n",
       "std            5.821597    234.842625         222.282285    222.165918   \n",
       "min            0.000000     11.950000          10.718500     24.775000   \n",
       "25%            0.000000    123.675000         114.892125    128.294375   \n",
       "50%            5.000000    259.210000         244.931750    258.123750   \n",
       "75%           10.000000    483.945000         451.623000    462.295000   \n",
       "max           20.000000    979.600000         968.700000    976.110000   \n",
       "\n",
       "       order_month  order_quarter  \n",
       "count  1000.000000     1000.00000  \n",
       "mean      6.499000        2.51000  \n",
       "std       3.480246        1.12123  \n",
       "min       1.000000        1.00000  \n",
       "25%       4.000000        2.00000  \n",
       "50%       6.000000        2.00000  \n",
       "75%      10.000000        4.00000  \n",
       "max      12.000000        4.00000  "
      ]
     },
     "execution_count": 7,
     "metadata": {},
     "output_type": "execute_result"
    }
   ],
   "source": [
    "# Generate descriptive statistics for all numerical columns\n",
    "df.describe()"
   ]
  },
  {
   "cell_type": "code",
   "execution_count": null,
   "id": "4b935bce",
   "metadata": {},
   "outputs": [],
   "source": [
    "# Ensure order_date is properly formatted as datetime\n",
    "df['order_date'] = pd.to_datetime(df['order_date'], dayfirst=True)"
   ]
  },
  {
   "cell_type": "code",
   "execution_count": null,
   "id": "52d0e9e1",
   "metadata": {},
   "outputs": [
    {
     "data": {
      "text/plain": [
       "array(['West', 'East', 'North', 'South'], dtype=object)"
      ]
     },
     "execution_count": 9,
     "metadata": {},
     "output_type": "execute_result"
    }
   ],
   "source": [
    "# Validate that all customer_regions contain only the expected values\n",
    "df['customer_region'].unique()"
   ]
  },
  {
   "cell_type": "code",
   "execution_count": null,
   "id": "4d2ec105",
   "metadata": {},
   "outputs": [
    {
     "name": "stdout",
     "output_type": "stream",
     "text": [
      "range customer age: 18-69.\n"
     ]
    }
   ],
   "source": [
    "# Check the range of customer_age to ensure reasonable values (18-70)\n",
    "min_age= df['customer_age'].min()\n",
    "max_age= df['customer_age'].max()\n",
    "print(f'range customer age: {min_age}-{max_age}.')"
   ]
  }
 ],
 "metadata": {
  "kernelspec": {
   "display_name": "Python 3",
   "language": "python",
   "name": "python3"
  },
  "language_info": {
   "codemirror_mode": {
    "name": "ipython",
    "version": 3
   },
   "file_extension": ".py",
   "mimetype": "text/x-python",
   "name": "python",
   "nbconvert_exporter": "python",
   "pygments_lexer": "ipython3",
   "version": "3.13.3"
  }
 },
 "nbformat": 4,
 "nbformat_minor": 5
}
