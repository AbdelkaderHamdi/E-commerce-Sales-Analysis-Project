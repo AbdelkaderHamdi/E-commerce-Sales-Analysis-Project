{
 "cells": [
  {
   "cell_type": "code",
   "execution_count": 1,
   "id": "7aa0b674",
   "metadata": {},
   "outputs": [],
   "source": [
    "import pandas as pd "
   ]
  },
  {
   "cell_type": "code",
   "execution_count": 2,
   "id": "13c51e59",
   "metadata": {},
   "outputs": [],
   "source": [
    "from load_data import load_data\n",
    "df = load_data()"
   ]
  },
  {
   "cell_type": "code",
   "execution_count": 3,
   "id": "a1ff24ff",
   "metadata": {},
   "outputs": [],
   "source": [
    "from precomputed import category_performance, month_performance, region_performance, discount_Analysis, top_ten_products, age_group_performance, top_ten_customers"
   ]
  },
  {
   "cell_type": "code",
   "execution_count": 4,
   "id": "6a8cd335",
   "metadata": {},
   "outputs": [],
   "source": [
    "category_performance_df = category_performance(df)\n",
    "month_performance_df = month_performance(df)\n",
    "region_performance_df = region_performance(df)\n",
    "age_group_performance_df = age_group_performance(df)\n",
    "discount_analysis_df = discount_Analysis(df)\n",
    "top_10_products_df = top_ten_products(df)\n",
    "top_10_customers_df = top_ten_customers(df)\n"
   ]
  },
  {
   "cell_type": "code",
   "execution_count": 5,
   "id": "1b32f746",
   "metadata": {},
   "outputs": [],
   "source": [
    "# 1. Exporter les tableaux de synthèse au format CSV\n",
    "category_performance_df.to_csv('../exports/category_performance_summary.csv', index=False)\n",
    "region_performance_df.to_csv('../exports/regional_analysis_summary.csv', index=False)\n",
    "month_performance_df.to_csv('../exports/monthly_trends_summary.csv', index=False)\n",
    "age_group_performance_df.to_csv('../exports/customer_demographics_summary.csv', index=False)\n",
    "discount_analysis_df.to_csv('../exports/discount_analysis_summary.csv', index=False)\n",
    "top_10_products_df.to_csv('../exports/top_products_summary.csv', index=False)\n",
    "top_10_customers_df.to_csv('../exports/top_customers_summary.csv', index=False)\n"
   ]
  },
  {
   "cell_type": "code",
   "execution_count": 6,
   "id": "72aa5275",
   "metadata": {},
   "outputs": [],
   "source": [
    "\n",
    "# 2. Créer un dictionnaire de données (format Markdown)\n",
    "data_dictionary = \"\"\"\n",
    "### Dictionnaire de données\n",
    "\n",
    "| Colonne | Description | Type de données |\n",
    "|---|---|---|\n",
    "| order_id | Identifiant unique de la commande | object (string) |\n",
    "| customer_id | Identifiant unique du client | object (string) |\n",
    "| product_category | Catégorie du produit acheté | object (string) |\n",
    "| product_name | Nom du produit | object (string) |\n",
    "| quantity | Nombre d'unités du produit achetées | int64 |\n",
    "| unit_price | Prix unitaire du produit | float64 |\n",
    "| order_date | Date à laquelle la commande a été passée | datetime64[ns] |\n",
    "| customer_age | Âge du client au moment de la commande | int64 |\n",
    "| customer_region | Région géographique du client | object (string) |\n",
    "| shipping_cost | Coût de la livraison pour la commande | float64 |\n",
    "| discount_applied | Pourcentage de remise appliqué | int64 |\n",
    "| total_amount | Montant total avant remise et livraison (quantity * unit_price) | float64 |\n",
    "| discounted_amount | Montant après application de la remise | float64 |\n",
    "| final_amount | Montant final payé par le client (discounted_amount + shipping_cost) | float64 |\n",
    "| order_month | Mois de la commande (1-12) | int64 |\n",
    "| order_quarter | Trimestre de la commande (1-4) | int64 |\n",
    "| age_group | Groupe d'âge du client | category |\n",
    "| discount_amount | Montant de la remise en devise | float64 |\n",
    "\"\"\"\n",
    "\n",
    "# Exporter en fichier Markdown\n",
    "with open(\"../exports/data_dictionary.md\", \"w\", encoding=\"utf-8\") as f:\n",
    "    f.write(data_dictionary)\n"
   ]
  }
 ],
 "metadata": {
  "kernelspec": {
   "display_name": "Python 3",
   "language": "python",
   "name": "python3"
  },
  "language_info": {
   "codemirror_mode": {
    "name": "ipython",
    "version": 3
   },
   "file_extension": ".py",
   "mimetype": "text/x-python",
   "name": "python",
   "nbconvert_exporter": "python",
   "pygments_lexer": "ipython3",
   "version": "3.13.3"
  }
 },
 "nbformat": 4,
 "nbformat_minor": 5
}
