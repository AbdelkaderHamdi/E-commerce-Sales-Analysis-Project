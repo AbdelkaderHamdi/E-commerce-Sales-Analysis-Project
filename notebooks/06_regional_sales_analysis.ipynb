{
 "cells": [
  {
   "cell_type": "code",
   "execution_count": 1,
   "id": "80577353",
   "metadata": {},
   "outputs": [],
   "source": [
    "import pandas as pd\n",
    "import numpy as np\n",
    "from matplotlib import pyplot as plt\n",
    "import seaborn as sns\n",
    "from load_data import load_data"
   ]
  },
  {
   "cell_type": "code",
   "execution_count": 2,
   "id": "e57422e4",
   "metadata": {},
   "outputs": [],
   "source": [
    "df = load_data()"
   ]
  },
  {
   "cell_type": "code",
   "execution_count": 5,
   "id": "72a64705",
   "metadata": {},
   "outputs": [
    {
     "data": {
      "text/html": [
       "<div>\n",
       "<style scoped>\n",
       "    .dataframe tbody tr th:only-of-type {\n",
       "        vertical-align: middle;\n",
       "    }\n",
       "\n",
       "    .dataframe tbody tr th {\n",
       "        vertical-align: top;\n",
       "    }\n",
       "\n",
       "    .dataframe thead th {\n",
       "        text-align: right;\n",
       "    }\n",
       "</style>\n",
       "<table border=\"1\" class=\"dataframe\">\n",
       "  <thead>\n",
       "    <tr style=\"text-align: right;\">\n",
       "      <th></th>\n",
       "      <th>total_revenue</th>\n",
       "      <th>avg_revenue</th>\n",
       "      <th>total_customers</th>\n",
       "      <th>total_orders</th>\n",
       "    </tr>\n",
       "    <tr>\n",
       "      <th>customer_region</th>\n",
       "      <th></th>\n",
       "      <th></th>\n",
       "      <th></th>\n",
       "      <th></th>\n",
       "    </tr>\n",
       "  </thead>\n",
       "  <tbody>\n",
       "    <tr>\n",
       "      <th>East</th>\n",
       "      <td>73685.9945</td>\n",
       "      <td>293.569699</td>\n",
       "      <td>251</td>\n",
       "      <td>251</td>\n",
       "    </tr>\n",
       "    <tr>\n",
       "      <th>North</th>\n",
       "      <td>87838.9910</td>\n",
       "      <td>336.547858</td>\n",
       "      <td>261</td>\n",
       "      <td>261</td>\n",
       "    </tr>\n",
       "    <tr>\n",
       "      <th>South</th>\n",
       "      <td>78803.6285</td>\n",
       "      <td>311.476792</td>\n",
       "      <td>253</td>\n",
       "      <td>253</td>\n",
       "    </tr>\n",
       "    <tr>\n",
       "      <th>West</th>\n",
       "      <td>72043.6815</td>\n",
       "      <td>306.568857</td>\n",
       "      <td>235</td>\n",
       "      <td>235</td>\n",
       "    </tr>\n",
       "  </tbody>\n",
       "</table>\n",
       "</div>"
      ],
      "text/plain": [
       "                 total_revenue  avg_revenue  total_customers  total_orders\n",
       "customer_region                                                           \n",
       "East                73685.9945   293.569699              251           251\n",
       "North               87838.9910   336.547858              261           261\n",
       "South               78803.6285   311.476792              253           253\n",
       "West                72043.6815   306.568857              235           235"
      ]
     },
     "execution_count": 5,
     "metadata": {},
     "output_type": "execute_result"
    }
   ],
   "source": [
    "region_performence = df.groupby('customer_region').agg(\n",
    "    total_revenue=('final_amount', 'sum'),\n",
    "    avg_revenue=('final_amount', 'mean'),\n",
    "    total_customers=('customer_id', 'count'),\n",
    "    total_orders=('order_id', 'count')\n",
    ")\n",
    "\n",
    "region_performence"
   ]
  },
  {
   "cell_type": "code",
   "execution_count": null,
   "id": "ac3ba8b4",
   "metadata": {},
   "outputs": [
    {
     "data": {
      "text/plain": [
       "<BarContainer object of 4 artists>"
      ]
     },
     "execution_count": 6,
     "metadata": {},
     "output_type": "execute_result"
    },
    {
     "data": {
      "image/png": "[encoded data removed]",
      "text/plain": [
       "<Figure size 640x480 with 1 Axes>"
      ]
     },
     "metadata": {},
     "output_type": "display_data"
    }
   ],
   "source": [
    "# horizontal bar chart comparing regional revenue\n",
    "plt.barh(y=region_performence.index, width=region_performence.total_revenue)"
   ]
  },
  {
   "cell_type": "code",
   "execution_count": null,
   "id": "6a8e520c",
   "metadata": {},
   "outputs": [
    {
     "data": {
      "image/png": "[encoded data removed]",
      "text/plain": [
       "<Figure size 640x480 with 1 Axes>"
      ]
     },
     "metadata": {},
     "output_type": "display_data"
    }
   ],
   "source": [
    "# pie chart showing revenue distribution by region\n",
    "\n",
    "#region_performence.total_revenue.plot.pie(autopct='%1.1f%%')\n",
    "plt.pie(x=region_performence.total_revenue, labels=region_performence.index, autopct='%1.1f%%')\n",
    "plt.show()"
   ]
  },
  {
   "cell_type": "code",
   "execution_count": null,
   "id": "22f21d27",
   "metadata": {},
   "outputs": [
    {
     "data": {
      "text/html": [
       "<div>\n",
       "<style scoped>\n",
       "    .dataframe tbody tr th:only-of-type {\n",
       "        vertical-align: middle;\n",
       "    }\n",
       "\n",
       "    .dataframe tbody tr th {\n",
       "        vertical-align: top;\n",
       "    }\n",
       "\n",
       "    .dataframe thead th {\n",
       "        text-align: right;\n",
       "    }\n",
       "</style>\n",
       "<table border=\"1\" class=\"dataframe\">\n",
       "  <thead>\n",
       "    <tr style=\"text-align: right;\">\n",
       "      <th></th>\n",
       "      <th>total_revenue</th>\n",
       "      <th>avg_revenue</th>\n",
       "      <th>total_customers</th>\n",
       "      <th>total_orders</th>\n",
       "      <th>revenue_customer</th>\n",
       "    </tr>\n",
       "    <tr>\n",
       "      <th>customer_region</th>\n",
       "      <th></th>\n",
       "      <th></th>\n",
       "      <th></th>\n",
       "      <th></th>\n",
       "      <th></th>\n",
       "    </tr>\n",
       "  </thead>\n",
       "  <tbody>\n",
       "    <tr>\n",
       "      <th>North</th>\n",
       "      <td>87838.9910</td>\n",
       "      <td>336.547858</td>\n",
       "      <td>261</td>\n",
       "      <td>261</td>\n",
       "      <td>336.55</td>\n",
       "    </tr>\n",
       "    <tr>\n",
       "      <th>South</th>\n",
       "      <td>78803.6285</td>\n",
       "      <td>311.476792</td>\n",
       "      <td>253</td>\n",
       "      <td>253</td>\n",
       "      <td>311.48</td>\n",
       "    </tr>\n",
       "    <tr>\n",
       "      <th>West</th>\n",
       "      <td>72043.6815</td>\n",
       "      <td>306.568857</td>\n",
       "      <td>235</td>\n",
       "      <td>235</td>\n",
       "      <td>306.57</td>\n",
       "    </tr>\n",
       "    <tr>\n",
       "      <th>East</th>\n",
       "      <td>73685.9945</td>\n",
       "      <td>293.569699</td>\n",
       "      <td>251</td>\n",
       "      <td>251</td>\n",
       "      <td>293.57</td>\n",
       "    </tr>\n",
       "  </tbody>\n",
       "</table>\n",
       "</div>"
      ],
      "text/plain": [
       "                 total_revenue  avg_revenue  total_customers  total_orders  \\\n",
       "customer_region                                                              \n",
       "North               87838.9910   336.547858              261           261   \n",
       "South               78803.6285   311.476792              253           253   \n",
       "West                72043.6815   306.568857              235           235   \n",
       "East                73685.9945   293.569699              251           251   \n",
       "\n",
       "                 revenue_customer  \n",
       "customer_region                    \n",
       "North                      336.55  \n",
       "South                      311.48  \n",
       "West                       306.57  \n",
       "East                       293.57  "
      ]
     },
     "execution_count": 8,
     "metadata": {},
     "output_type": "execute_result"
    }
   ],
   "source": [
    "# Rank regions by revenue per customer\n",
    "region_performence['revenue_customer'] = (region_performence['total_revenue']/region_performence['total_customers']).round(2)\n",
    "region_performence.sort_values(by='revenue_customer', ascending=False)\n"
   ]
  },
  {
   "cell_type": "code",
   "execution_count": null,
   "id": "d3f68068",
   "metadata": {},
   "outputs": [
    {
     "data": {
      "text/html": [
       "<div>\n",
       "<style scoped>\n",
       "    .dataframe tbody tr th:only-of-type {\n",
       "        vertical-align: middle;\n",
       "    }\n",
       "\n",
       "    .dataframe tbody tr th {\n",
       "        vertical-align: top;\n",
       "    }\n",
       "\n",
       "    .dataframe thead th {\n",
       "        text-align: right;\n",
       "    }\n",
       "</style>\n",
       "<table border=\"1\" class=\"dataframe\">\n",
       "  <thead>\n",
       "    <tr style=\"text-align: right;\">\n",
       "      <th></th>\n",
       "      <th>total_revenue</th>\n",
       "      <th>avg_revenue</th>\n",
       "      <th>total_customers</th>\n",
       "      <th>total_orders</th>\n",
       "      <th>revenue_customer</th>\n",
       "    </tr>\n",
       "    <tr>\n",
       "      <th>customer_region</th>\n",
       "      <th></th>\n",
       "      <th></th>\n",
       "      <th></th>\n",
       "      <th></th>\n",
       "      <th></th>\n",
       "    </tr>\n",
       "  </thead>\n",
       "  <tbody>\n",
       "    <tr>\n",
       "      <th>North</th>\n",
       "      <td>87838.9910</td>\n",
       "      <td>336.547858</td>\n",
       "      <td>261</td>\n",
       "      <td>261</td>\n",
       "      <td>336.55</td>\n",
       "    </tr>\n",
       "    <tr>\n",
       "      <th>South</th>\n",
       "      <td>78803.6285</td>\n",
       "      <td>311.476792</td>\n",
       "      <td>253</td>\n",
       "      <td>253</td>\n",
       "      <td>311.48</td>\n",
       "    </tr>\n",
       "    <tr>\n",
       "      <th>East</th>\n",
       "      <td>73685.9945</td>\n",
       "      <td>293.569699</td>\n",
       "      <td>251</td>\n",
       "      <td>251</td>\n",
       "      <td>293.57</td>\n",
       "    </tr>\n",
       "    <tr>\n",
       "      <th>West</th>\n",
       "      <td>72043.6815</td>\n",
       "      <td>306.568857</td>\n",
       "      <td>235</td>\n",
       "      <td>235</td>\n",
       "      <td>306.57</td>\n",
       "    </tr>\n",
       "  </tbody>\n",
       "</table>\n",
       "</div>"
      ],
      "text/plain": [
       "                 total_revenue  avg_revenue  total_customers  total_orders  \\\n",
       "customer_region                                                              \n",
       "North               87838.9910   336.547858              261           261   \n",
       "South               78803.6285   311.476792              253           253   \n",
       "East                73685.9945   293.569699              251           251   \n",
       "West                72043.6815   306.568857              235           235   \n",
       "\n",
       "                 revenue_customer  \n",
       "customer_region                    \n",
       "North                      336.55  \n",
       "South                      311.48  \n",
       "East                       293.57  \n",
       "West                       306.57  "
      ]
     },
     "execution_count": 9,
     "metadata": {},
     "output_type": "execute_result"
    }
   ],
   "source": [
    "# Identify the top performing region overall\n",
    "region_performence.sort_values(by='total_revenue', ascending=False)"
   ]
  },
  {
   "cell_type": "code",
   "execution_count": null,
   "id": "e22a3a7e",
   "metadata": {},
   "outputs": [],
   "source": []
  }
 ],
 "metadata": {
  "kernelspec": {
   "display_name": "Python 3",
   "language": "python",
   "name": "python3"
  },
  "language_info": {
   "codemirror_mode": {
    "name": "ipython",
    "version": 3
   },
   "file_extension": ".py",
   "mimetype": "text/x-python",
   "name": "python",
   "nbconvert_exporter": "python",
   "pygments_lexer": "ipython3",
   "version": "3.13.3"
  }
 },
 "nbformat": 4,
 "nbformat_minor": 5
}
