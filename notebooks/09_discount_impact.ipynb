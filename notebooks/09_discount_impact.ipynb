{
 "cells": [
  {
   "cell_type": "code",
   "execution_count": 1,
   "id": "b99d6f44",
   "metadata": {},
   "outputs": [],
   "source": [
    "import pandas as pd\n",
    "import numpy as np\n",
    "from matplotlib import pyplot as plt\n",
    "import seaborn as sns\n",
    "from load_data import load_data"
   ]
  },
  {
   "cell_type": "code",
   "execution_count": 2,
   "id": "4285c455",
   "metadata": {},
   "outputs": [],
   "source": [
    "df = load_data()"
   ]
  },
  {
   "cell_type": "code",
   "execution_count": 3,
   "id": "54cb466a",
   "metadata": {},
   "outputs": [
    {
     "data": {
      "text/html": [
       "<div>\n",
       "<style scoped>\n",
       "    .dataframe tbody tr th:only-of-type {\n",
       "        vertical-align: middle;\n",
       "    }\n",
       "\n",
       "    .dataframe tbody tr th {\n",
       "        vertical-align: top;\n",
       "    }\n",
       "\n",
       "    .dataframe thead th {\n",
       "        text-align: right;\n",
       "    }\n",
       "</style>\n",
       "<table border=\"1\" class=\"dataframe\">\n",
       "  <thead>\n",
       "    <tr style=\"text-align: right;\">\n",
       "      <th></th>\n",
       "      <th>avg_order_value</th>\n",
       "      <th>total_revenue</th>\n",
       "      <th>num_orders</th>\n",
       "    </tr>\n",
       "    <tr>\n",
       "      <th>discount_applied</th>\n",
       "      <th></th>\n",
       "      <th></th>\n",
       "      <th></th>\n",
       "    </tr>\n",
       "  </thead>\n",
       "  <tbody>\n",
       "    <tr>\n",
       "      <th>0</th>\n",
       "      <td>343.918841</td>\n",
       "      <td>103863.4900</td>\n",
       "      <td>302</td>\n",
       "    </tr>\n",
       "    <tr>\n",
       "      <th>5</th>\n",
       "      <td>331.992770</td>\n",
       "      <td>91630.0045</td>\n",
       "      <td>276</td>\n",
       "    </tr>\n",
       "    <tr>\n",
       "      <th>10</th>\n",
       "      <td>285.576414</td>\n",
       "      <td>66253.7280</td>\n",
       "      <td>232</td>\n",
       "    </tr>\n",
       "    <tr>\n",
       "      <th>15</th>\n",
       "      <td>273.423240</td>\n",
       "      <td>42107.1790</td>\n",
       "      <td>154</td>\n",
       "    </tr>\n",
       "    <tr>\n",
       "      <th>20</th>\n",
       "      <td>236.608167</td>\n",
       "      <td>8517.8940</td>\n",
       "      <td>36</td>\n",
       "    </tr>\n",
       "  </tbody>\n",
       "</table>\n",
       "</div>"
      ],
      "text/plain": [
       "                  avg_order_value  total_revenue  num_orders\n",
       "discount_applied                                            \n",
       "0                      343.918841    103863.4900         302\n",
       "5                      331.992770     91630.0045         276\n",
       "10                     285.576414     66253.7280         232\n",
       "15                     273.423240     42107.1790         154\n",
       "20                     236.608167      8517.8940          36"
      ]
     },
     "execution_count": 3,
     "metadata": {},
     "output_type": "execute_result"
    }
   ],
   "source": [
    "discount_analysis = df.groupby('discount_applied').agg(\n",
    "    avg_order_value=('final_amount', 'mean'),\n",
    "    total_revenue=('final_amount', 'sum'),\n",
    "    num_orders=('order_id', 'count')\n",
    ")\n",
    "\n",
    "discount_analysis"
   ]
  },
  {
   "cell_type": "code",
   "execution_count": null,
   "id": "b7cb1d85",
   "metadata": {},
   "outputs": [
    {
     "data": {
      "text/plain": [
       "<Axes: xlabel='discount_applied', ylabel='avg_order_value'>"
      ]
     },
     "execution_count": 4,
     "metadata": {},
     "output_type": "execute_result"
    },
    {
     "data": {
      "image/png": "[encoded data removed]",
      "text/plain": [
       "<Figure size 640x480 with 1 Axes>"
      ]
     },
     "metadata": {},
     "output_type": "display_data"
    }
   ],
   "source": [
    "# bar chart showing average order value by discount level\n",
    "sns.barplot(data=discount_analysis, x=discount_analysis.index, y=discount_analysis.avg_order_value)"
   ]
  },
  {
   "cell_type": "code",
   "execution_count": null,
   "id": "38949b56",
   "metadata": {},
   "outputs": [
    {
     "data": {
      "text/plain": [
       "np.float64(297466.18)"
      ]
     },
     "execution_count": 5,
     "metadata": {},
     "output_type": "execute_result"
    }
   ],
   "source": [
    "# Calculate total discount amount given across all orders\n",
    "total_discount_amount=df['discounted_amount'].sum().round(2)\n",
    "total_discount_amount"
   ]
  },
  {
   "cell_type": "code",
   "execution_count": null,
   "id": "1c500147",
   "metadata": {},
   "outputs": [
    {
     "data": {
      "text/plain": [
       "np.float64(-0.14)"
      ]
     },
     "execution_count": 6,
     "metadata": {},
     "output_type": "execute_result"
    }
   ],
   "source": [
    "# Analyze the correlation between discount percentage and final order value\n",
    "df['final_amount'].corr(df['discount_applied']).round(2)"
   ]
  },
  {
   "cell_type": "code",
   "execution_count": null,
   "id": "23406683",
   "metadata": {},
   "outputs": [
    {
     "data": {
      "text/html": [
       "<div>\n",
       "<style scoped>\n",
       "    .dataframe tbody tr th:only-of-type {\n",
       "        vertical-align: middle;\n",
       "    }\n",
       "\n",
       "    .dataframe tbody tr th {\n",
       "        vertical-align: top;\n",
       "    }\n",
       "\n",
       "    .dataframe thead th {\n",
       "        text-align: right;\n",
       "    }\n",
       "</style>\n",
       "<table border=\"1\" class=\"dataframe\">\n",
       "  <thead>\n",
       "    <tr style=\"text-align: right;\">\n",
       "      <th></th>\n",
       "      <th>avg_order_value</th>\n",
       "      <th>total_revenue</th>\n",
       "      <th>num_orders</th>\n",
       "    </tr>\n",
       "    <tr>\n",
       "      <th>discount_applied</th>\n",
       "      <th></th>\n",
       "      <th></th>\n",
       "      <th></th>\n",
       "    </tr>\n",
       "  </thead>\n",
       "  <tbody>\n",
       "    <tr>\n",
       "      <th>0</th>\n",
       "      <td>343.918841</td>\n",
       "      <td>103863.49</td>\n",
       "      <td>302</td>\n",
       "    </tr>\n",
       "  </tbody>\n",
       "</table>\n",
       "</div>"
      ],
      "text/plain": [
       "                  avg_order_value  total_revenue  num_orders\n",
       "discount_applied                                            \n",
       "0                      343.918841      103863.49         302"
      ]
     },
     "execution_count": 7,
     "metadata": {},
     "output_type": "execute_result"
    }
   ],
   "source": [
    "# Identify the most effective discount percentage\n",
    "most_effective_discount= discount_analysis.sort_values(by='num_orders', ascending=False).head(1)\n",
    "most_effective_discount"
   ]
  },
  {
   "cell_type": "code",
   "execution_count": null,
   "id": "8368b2cf",
   "metadata": {},
   "outputs": [
    {
     "data": {
      "text/html": [
       "<div>\n",
       "<style scoped>\n",
       "    .dataframe tbody tr th:only-of-type {\n",
       "        vertical-align: middle;\n",
       "    }\n",
       "\n",
       "    .dataframe tbody tr th {\n",
       "        vertical-align: top;\n",
       "    }\n",
       "\n",
       "    .dataframe thead th {\n",
       "        text-align: right;\n",
       "    }\n",
       "</style>\n",
       "<table border=\"1\" class=\"dataframe\">\n",
       "  <thead>\n",
       "    <tr style=\"text-align: right;\">\n",
       "      <th></th>\n",
       "      <th>avg_order_value</th>\n",
       "      <th>total_revenue</th>\n",
       "      <th>num_orders</th>\n",
       "      <th>revenue_per_order</th>\n",
       "    </tr>\n",
       "    <tr>\n",
       "      <th>discount_applied</th>\n",
       "      <th></th>\n",
       "      <th></th>\n",
       "      <th></th>\n",
       "      <th></th>\n",
       "    </tr>\n",
       "  </thead>\n",
       "  <tbody>\n",
       "    <tr>\n",
       "      <th>0</th>\n",
       "      <td>343.918841</td>\n",
       "      <td>103863.4900</td>\n",
       "      <td>302</td>\n",
       "      <td>343.92</td>\n",
       "    </tr>\n",
       "    <tr>\n",
       "      <th>5</th>\n",
       "      <td>331.992770</td>\n",
       "      <td>91630.0045</td>\n",
       "      <td>276</td>\n",
       "      <td>331.99</td>\n",
       "    </tr>\n",
       "    <tr>\n",
       "      <th>10</th>\n",
       "      <td>285.576414</td>\n",
       "      <td>66253.7280</td>\n",
       "      <td>232</td>\n",
       "      <td>285.58</td>\n",
       "    </tr>\n",
       "    <tr>\n",
       "      <th>15</th>\n",
       "      <td>273.423240</td>\n",
       "      <td>42107.1790</td>\n",
       "      <td>154</td>\n",
       "      <td>273.42</td>\n",
       "    </tr>\n",
       "    <tr>\n",
       "      <th>20</th>\n",
       "      <td>236.608167</td>\n",
       "      <td>8517.8940</td>\n",
       "      <td>36</td>\n",
       "      <td>236.61</td>\n",
       "    </tr>\n",
       "  </tbody>\n",
       "</table>\n",
       "</div>"
      ],
      "text/plain": [
       "                  avg_order_value  total_revenue  num_orders  \\\n",
       "discount_applied                                               \n",
       "0                      343.918841    103863.4900         302   \n",
       "5                      331.992770     91630.0045         276   \n",
       "10                     285.576414     66253.7280         232   \n",
       "15                     273.423240     42107.1790         154   \n",
       "20                     236.608167      8517.8940          36   \n",
       "\n",
       "                  revenue_per_order  \n",
       "discount_applied                     \n",
       "0                            343.92  \n",
       "5                            331.99  \n",
       "10                           285.58  \n",
       "15                           273.42  \n",
       "20                           236.61  "
      ]
     },
     "execution_count": 8,
     "metadata": {},
     "output_type": "execute_result"
    }
   ],
   "source": [
    "# Calculate revenue impact of discounts\n",
    "discount_analysis['revenue_per_order']= (discount_analysis['total_revenue']/discount_analysis['num_orders']).round(2)\n",
    "discount_analysis"
   ]
  },
  {
   "cell_type": "code",
   "execution_count": 9,
   "id": "ed2820de",
   "metadata": {},
   "outputs": [
    {
     "data": {
      "text/plain": [
       "<Axes: xlabel='discount_applied', ylabel='revenue_per_order'>"
      ]
     },
     "execution_count": 9,
     "metadata": {},
     "output_type": "execute_result"
    },
    {
     "data": {
      "image/png": "[encoded data removed]",
      "text/plain": [
       "<Figure size 640x480 with 1 Axes>"
      ]
     },
     "metadata": {},
     "output_type": "display_data"
    }
   ],
   "source": [
    "sns.lineplot(data=discount_analysis, x=discount_analysis.index, y=discount_analysis.revenue_per_order)"
   ]
  },
  {
   "cell_type": "code",
   "execution_count": null,
   "id": "f2b56f17",
   "metadata": {},
   "outputs": [],
   "source": []
  }
 ],
 "metadata": {
  "kernelspec": {
   "display_name": "Python 3",
   "language": "python",
   "name": "python3"
  },
  "language_info": {
   "codemirror_mode": {
    "name": "ipython",
    "version": 3
   },
   "file_extension": ".py",
   "mimetype": "text/x-python",
   "name": "python",
   "nbconvert_exporter": "python",
   "pygments_lexer": "ipython3",
   "version": "3.13.3"
  }
 },
 "nbformat": 4,
 "nbformat_minor": 5
}
