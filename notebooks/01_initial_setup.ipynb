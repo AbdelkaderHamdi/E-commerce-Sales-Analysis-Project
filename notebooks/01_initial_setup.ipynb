{
 "cells": [
  {
   "cell_type": "code",
   "execution_count": 1,
   "id": "f2e6ec1a",
   "metadata": {},
   "outputs": [],
   "source": [
    "import pandas as pd\n",
    "import numpy as np\n",
    "from load_data import load_data"
   ]
  },
  {
   "cell_type": "code",
   "execution_count": 2,
   "id": "533f2816",
   "metadata": {},
   "outputs": [],
   "source": [
    "df = load_data()"
   ]
  },
  {
   "cell_type": "code",
   "execution_count": 3,
   "id": "72c8e401",
   "metadata": {},
   "outputs": [
    {
     "data": {
      "text/html": [
       "<div>\n",
       "<style scoped>\n",
       "    .dataframe tbody tr th:only-of-type {\n",
       "        vertical-align: middle;\n",
       "    }\n",
       "\n",
       "    .dataframe tbody tr th {\n",
       "        vertical-align: top;\n",
       "    }\n",
       "\n",
       "    .dataframe thead th {\n",
       "        text-align: right;\n",
       "    }\n",
       "</style>\n",
       "<table border=\"1\" class=\"dataframe\">\n",
       "  <thead>\n",
       "    <tr style=\"text-align: right;\">\n",
       "      <th></th>\n",
       "      <th>order_id</th>\n",
       "      <th>customer_id</th>\n",
       "      <th>product_category</th>\n",
       "      <th>product_name</th>\n",
       "      <th>quantity</th>\n",
       "      <th>unit_price</th>\n",
       "      <th>order_date</th>\n",
       "      <th>customer_age</th>\n",
       "      <th>customer_region</th>\n",
       "      <th>shipping_cost</th>\n",
       "      <th>discount_applied</th>\n",
       "      <th>total_amount</th>\n",
       "      <th>discounted_amount</th>\n",
       "      <th>final_amount</th>\n",
       "      <th>order_month</th>\n",
       "      <th>order_quarter</th>\n",
       "    </tr>\n",
       "  </thead>\n",
       "  <tbody>\n",
       "    <tr>\n",
       "      <th>0</th>\n",
       "      <td>ORD0001</td>\n",
       "      <td>CUST103</td>\n",
       "      <td>Sports</td>\n",
       "      <td>Product_25</td>\n",
       "      <td>1</td>\n",
       "      <td>124.30</td>\n",
       "      <td>25/07/2023</td>\n",
       "      <td>24</td>\n",
       "      <td>West</td>\n",
       "      <td>10.14</td>\n",
       "      <td>10</td>\n",
       "      <td>124.30</td>\n",
       "      <td>111.870</td>\n",
       "      <td>122.010</td>\n",
       "      <td>7</td>\n",
       "      <td>3</td>\n",
       "    </tr>\n",
       "    <tr>\n",
       "      <th>1</th>\n",
       "      <td>ORD0002</td>\n",
       "      <td>CUST180</td>\n",
       "      <td>Electronics</td>\n",
       "      <td>Product_36</td>\n",
       "      <td>1</td>\n",
       "      <td>66.35</td>\n",
       "      <td>10/11/2023</td>\n",
       "      <td>44</td>\n",
       "      <td>West</td>\n",
       "      <td>19.39</td>\n",
       "      <td>0</td>\n",
       "      <td>66.35</td>\n",
       "      <td>66.350</td>\n",
       "      <td>85.740</td>\n",
       "      <td>11</td>\n",
       "      <td>4</td>\n",
       "    </tr>\n",
       "    <tr>\n",
       "      <th>2</th>\n",
       "      <td>ORD0003</td>\n",
       "      <td>CUST093</td>\n",
       "      <td>Books</td>\n",
       "      <td>Product_75</td>\n",
       "      <td>5</td>\n",
       "      <td>145.74</td>\n",
       "      <td>04/04/2023</td>\n",
       "      <td>18</td>\n",
       "      <td>West</td>\n",
       "      <td>5.56</td>\n",
       "      <td>5</td>\n",
       "      <td>728.70</td>\n",
       "      <td>692.265</td>\n",
       "      <td>697.825</td>\n",
       "      <td>4</td>\n",
       "      <td>2</td>\n",
       "    </tr>\n",
       "    <tr>\n",
       "      <th>3</th>\n",
       "      <td>ORD0004</td>\n",
       "      <td>CUST015</td>\n",
       "      <td>Clothing</td>\n",
       "      <td>Product_51</td>\n",
       "      <td>4</td>\n",
       "      <td>154.21</td>\n",
       "      <td>07/05/2023</td>\n",
       "      <td>44</td>\n",
       "      <td>East</td>\n",
       "      <td>12.51</td>\n",
       "      <td>0</td>\n",
       "      <td>616.84</td>\n",
       "      <td>616.840</td>\n",
       "      <td>629.350</td>\n",
       "      <td>5</td>\n",
       "      <td>2</td>\n",
       "    </tr>\n",
       "    <tr>\n",
       "      <th>4</th>\n",
       "      <td>ORD0005</td>\n",
       "      <td>CUST107</td>\n",
       "      <td>Sports</td>\n",
       "      <td>Product_15</td>\n",
       "      <td>3</td>\n",
       "      <td>29.48</td>\n",
       "      <td>25/01/2023</td>\n",
       "      <td>33</td>\n",
       "      <td>North</td>\n",
       "      <td>17.54</td>\n",
       "      <td>10</td>\n",
       "      <td>88.44</td>\n",
       "      <td>79.596</td>\n",
       "      <td>97.136</td>\n",
       "      <td>1</td>\n",
       "      <td>1</td>\n",
       "    </tr>\n",
       "  </tbody>\n",
       "</table>\n",
       "</div>"
      ],
      "text/plain": [
       "  order_id customer_id product_category product_name  quantity  unit_price  \\\n",
       "0  ORD0001     CUST103           Sports   Product_25         1      124.30   \n",
       "1  ORD0002     CUST180      Electronics   Product_36         1       66.35   \n",
       "2  ORD0003     CUST093            Books   Product_75         5      145.74   \n",
       "3  ORD0004     CUST015         Clothing   Product_51         4      154.21   \n",
       "4  ORD0005     CUST107           Sports   Product_15         3       29.48   \n",
       "\n",
       "   order_date  customer_age customer_region  shipping_cost  discount_applied  \\\n",
       "0  25/07/2023            24            West          10.14                10   \n",
       "1  10/11/2023            44            West          19.39                 0   \n",
       "2  04/04/2023            18            West           5.56                 5   \n",
       "3  07/05/2023            44            East          12.51                 0   \n",
       "4  25/01/2023            33           North          17.54                10   \n",
       "\n",
       "   total_amount  discounted_amount  final_amount  order_month  order_quarter  \n",
       "0        124.30            111.870       122.010            7              3  \n",
       "1         66.35             66.350        85.740           11              4  \n",
       "2        728.70            692.265       697.825            4              2  \n",
       "3        616.84            616.840       629.350            5              2  \n",
       "4         88.44             79.596        97.136            1              1  "
      ]
     },
     "execution_count": 3,
     "metadata": {},
     "output_type": "execute_result"
    }
   ],
   "source": [
    "df.head()"
   ]
  },
  {
   "cell_type": "code",
   "execution_count": 4,
   "id": "a3183ee1",
   "metadata": {},
   "outputs": [
    {
     "data": {
      "text/plain": [
       "(1000, 16)"
      ]
     },
     "execution_count": 4,
     "metadata": {},
     "output_type": "execute_result"
    }
   ],
   "source": [
    "df.shape"
   ]
  },
  {
   "cell_type": "code",
   "execution_count": 5,
   "id": "1b2d5e2a",
   "metadata": {},
   "outputs": [
    {
     "name": "stdout",
     "output_type": "stream",
     "text": [
      "<class 'pandas.core.frame.DataFrame'>\n",
      "Index: 1000 entries, 0 to 999\n",
      "Data columns (total 16 columns):\n",
      " #   Column             Non-Null Count  Dtype  \n",
      "---  ------             --------------  -----  \n",
      " 0   order_id           1000 non-null   object \n",
      " 1   customer_id        1000 non-null   object \n",
      " 2   product_category   1000 non-null   object \n",
      " 3   product_name       1000 non-null   object \n",
      " 4   quantity           1000 non-null   int64  \n",
      " 5   unit_price         1000 non-null   float64\n",
      " 6   order_date         1000 non-null   object \n",
      " 7   customer_age       1000 non-null   int64  \n",
      " 8   customer_region    1000 non-null   object \n",
      " 9   shipping_cost      1000 non-null   float64\n",
      " 10  discount_applied   1000 non-null   int64  \n",
      " 11  total_amount       1000 non-null   float64\n",
      " 12  discounted_amount  1000 non-null   float64\n",
      " 13  final_amount       1000 non-null   float64\n",
      " 14  order_month        1000 non-null   int64  \n",
      " 15  order_quarter      1000 non-null   int64  \n",
      "dtypes: float64(5), int64(5), object(6)\n",
      "memory usage: 132.8+ KB\n"
     ]
    }
   ],
   "source": [
    "df.info()"
   ]
  },
  {
   "cell_type": "code",
   "execution_count": null,
   "id": "0ac783ae",
   "metadata": {},
   "outputs": [],
   "source": []
  }
 ],
 "metadata": {
  "kernelspec": {
   "display_name": "Python 3",
   "language": "python",
   "name": "python3"
  },
  "language_info": {
   "codemirror_mode": {
    "name": "ipython",
    "version": 3
   },
   "file_extension": ".py",
   "mimetype": "text/x-python",
   "name": "python",
   "nbconvert_exporter": "python",
   "pygments_lexer": "ipython3",
   "version": "3.13.3"
  }
 },
 "nbformat": 4,
 "nbformat_minor": 5
}
