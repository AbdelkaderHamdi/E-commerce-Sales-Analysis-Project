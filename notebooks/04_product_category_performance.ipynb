{
 "cells": [
  {
   "cell_type": "code",
   "execution_count": 6,
   "id": "591d37d0",
   "metadata": {},
   "outputs": [],
   "source": [
    "import pandas as pd\n",
    "import numpy as np\n",
    "from matplotlib import pyplot as plt\n",
    "from load_data import load_data"
   ]
  },
  {
   "cell_type": "code",
   "execution_count": 2,
   "id": "a11de572",
   "metadata": {},
   "outputs": [],
   "source": [
    "df= load_data()"
   ]
  },
  {
   "cell_type": "code",
   "execution_count": 3,
   "id": "32edc966",
   "metadata": {},
   "outputs": [
    {
     "data": {
      "text/html": [
       "<div>\n",
       "<style scoped>\n",
       "    .dataframe tbody tr th:only-of-type {\n",
       "        vertical-align: middle;\n",
       "    }\n",
       "\n",
       "    .dataframe tbody tr th {\n",
       "        vertical-align: top;\n",
       "    }\n",
       "\n",
       "    .dataframe thead tr th {\n",
       "        text-align: left;\n",
       "    }\n",
       "\n",
       "    .dataframe thead tr:last-of-type th {\n",
       "        text-align: right;\n",
       "    }\n",
       "</style>\n",
       "<table border=\"1\" class=\"dataframe\">\n",
       "  <thead>\n",
       "    <tr>\n",
       "      <th></th>\n",
       "      <th colspan=\"2\" halign=\"left\">final_amount</th>\n",
       "      <th>order_id</th>\n",
       "      <th>quantity</th>\n",
       "    </tr>\n",
       "    <tr>\n",
       "      <th></th>\n",
       "      <th>sum</th>\n",
       "      <th>mean</th>\n",
       "      <th>count</th>\n",
       "      <th>sum</th>\n",
       "    </tr>\n",
       "    <tr>\n",
       "      <th>product_category</th>\n",
       "      <th></th>\n",
       "      <th></th>\n",
       "      <th></th>\n",
       "      <th></th>\n",
       "    </tr>\n",
       "  </thead>\n",
       "  <tbody>\n",
       "    <tr>\n",
       "      <th>Books</th>\n",
       "      <td>46933.4135</td>\n",
       "      <td>314.989352</td>\n",
       "      <td>149</td>\n",
       "      <td>432</td>\n",
       "    </tr>\n",
       "    <tr>\n",
       "      <th>Clothing</th>\n",
       "      <td>55779.4660</td>\n",
       "      <td>311.617128</td>\n",
       "      <td>179</td>\n",
       "      <td>552</td>\n",
       "    </tr>\n",
       "    <tr>\n",
       "      <th>Electronics</th>\n",
       "      <td>80815.0300</td>\n",
       "      <td>299.314926</td>\n",
       "      <td>270</td>\n",
       "      <td>829</td>\n",
       "    </tr>\n",
       "    <tr>\n",
       "      <th>Home &amp; Garden</th>\n",
       "      <td>76753.6165</td>\n",
       "      <td>314.564002</td>\n",
       "      <td>244</td>\n",
       "      <td>756</td>\n",
       "    </tr>\n",
       "    <tr>\n",
       "      <th>Sports</th>\n",
       "      <td>52090.7695</td>\n",
       "      <td>329.688415</td>\n",
       "      <td>158</td>\n",
       "      <td>469</td>\n",
       "    </tr>\n",
       "  </tbody>\n",
       "</table>\n",
       "</div>"
      ],
      "text/plain": [
       "                 final_amount             order_id quantity\n",
       "                          sum        mean    count      sum\n",
       "product_category                                           \n",
       "Books              46933.4135  314.989352      149      432\n",
       "Clothing           55779.4660  311.617128      179      552\n",
       "Electronics        80815.0300  299.314926      270      829\n",
       "Home & Garden      76753.6165  314.564002      244      756\n",
       "Sports             52090.7695  329.688415      158      469"
      ]
     },
     "execution_count": 3,
     "metadata": {},
     "output_type": "execute_result"
    }
   ],
   "source": [
    "category_performence = df.groupby('product_category').agg(\n",
    "    {'final_amount':['sum', 'mean'],\n",
    "     'order_id': ['count'],\n",
    "     'quantity':['sum']}\n",
    ")\n",
    "category_performence\n"
   ]
  },
  {
   "cell_type": "code",
   "execution_count": 4,
   "id": "bef9fd21",
   "metadata": {},
   "outputs": [
    {
     "data": {
      "text/html": [
       "<div>\n",
       "<style scoped>\n",
       "    .dataframe tbody tr th:only-of-type {\n",
       "        vertical-align: middle;\n",
       "    }\n",
       "\n",
       "    .dataframe tbody tr th {\n",
       "        vertical-align: top;\n",
       "    }\n",
       "\n",
       "    .dataframe thead th {\n",
       "        text-align: right;\n",
       "    }\n",
       "</style>\n",
       "<table border=\"1\" class=\"dataframe\">\n",
       "  <thead>\n",
       "    <tr style=\"text-align: right;\">\n",
       "      <th></th>\n",
       "      <th>total_revenue</th>\n",
       "      <th>avg_revenue</th>\n",
       "      <th>total_quantity</th>\n",
       "      <th>total_orders</th>\n",
       "    </tr>\n",
       "    <tr>\n",
       "      <th>product_category</th>\n",
       "      <th></th>\n",
       "      <th></th>\n",
       "      <th></th>\n",
       "      <th></th>\n",
       "    </tr>\n",
       "  </thead>\n",
       "  <tbody>\n",
       "    <tr>\n",
       "      <th>Books</th>\n",
       "      <td>46933.4135</td>\n",
       "      <td>314.989352</td>\n",
       "      <td>149</td>\n",
       "      <td>432</td>\n",
       "    </tr>\n",
       "    <tr>\n",
       "      <th>Clothing</th>\n",
       "      <td>55779.4660</td>\n",
       "      <td>311.617128</td>\n",
       "      <td>179</td>\n",
       "      <td>552</td>\n",
       "    </tr>\n",
       "    <tr>\n",
       "      <th>Electronics</th>\n",
       "      <td>80815.0300</td>\n",
       "      <td>299.314926</td>\n",
       "      <td>270</td>\n",
       "      <td>829</td>\n",
       "    </tr>\n",
       "    <tr>\n",
       "      <th>Home &amp; Garden</th>\n",
       "      <td>76753.6165</td>\n",
       "      <td>314.564002</td>\n",
       "      <td>244</td>\n",
       "      <td>756</td>\n",
       "    </tr>\n",
       "    <tr>\n",
       "      <th>Sports</th>\n",
       "      <td>52090.7695</td>\n",
       "      <td>329.688415</td>\n",
       "      <td>158</td>\n",
       "      <td>469</td>\n",
       "    </tr>\n",
       "  </tbody>\n",
       "</table>\n",
       "</div>"
      ],
      "text/plain": [
       "                  total_revenue  avg_revenue  total_quantity  total_orders\n",
       "product_category                                                          \n",
       "Books                46933.4135   314.989352             149           432\n",
       "Clothing             55779.4660   311.617128             179           552\n",
       "Electronics          80815.0300   299.314926             270           829\n",
       "Home & Garden        76753.6165   314.564002             244           756\n",
       "Sports               52090.7695   329.688415             158           469"
      ]
     },
     "execution_count": 4,
     "metadata": {},
     "output_type": "execute_result"
    }
   ],
   "source": [
    "category_performence.columns = ['total_revenue', 'avg_revenue', 'total_quantity', 'total_orders']\n",
    "category_performence"
   ]
  },
  {
   "cell_type": "code",
   "execution_count": null,
   "id": "ca274e5e",
   "metadata": {},
   "outputs": [
    {
     "data": {
      "text/html": [
       "<div>\n",
       "<style scoped>\n",
       "    .dataframe tbody tr th:only-of-type {\n",
       "        vertical-align: middle;\n",
       "    }\n",
       "\n",
       "    .dataframe tbody tr th {\n",
       "        vertical-align: top;\n",
       "    }\n",
       "\n",
       "    .dataframe thead th {\n",
       "        text-align: right;\n",
       "    }\n",
       "</style>\n",
       "<table border=\"1\" class=\"dataframe\">\n",
       "  <thead>\n",
       "    <tr style=\"text-align: right;\">\n",
       "      <th></th>\n",
       "      <th>total_revenue</th>\n",
       "      <th>avg_revenue</th>\n",
       "      <th>total_quantity</th>\n",
       "      <th>total_orders</th>\n",
       "    </tr>\n",
       "    <tr>\n",
       "      <th>product_category</th>\n",
       "      <th></th>\n",
       "      <th></th>\n",
       "      <th></th>\n",
       "      <th></th>\n",
       "    </tr>\n",
       "  </thead>\n",
       "  <tbody>\n",
       "    <tr>\n",
       "      <th>Electronics</th>\n",
       "      <td>80815.0300</td>\n",
       "      <td>299.314926</td>\n",
       "      <td>270</td>\n",
       "      <td>829</td>\n",
       "    </tr>\n",
       "    <tr>\n",
       "      <th>Home &amp; Garden</th>\n",
       "      <td>76753.6165</td>\n",
       "      <td>314.564002</td>\n",
       "      <td>244</td>\n",
       "      <td>756</td>\n",
       "    </tr>\n",
       "    <tr>\n",
       "      <th>Clothing</th>\n",
       "      <td>55779.4660</td>\n",
       "      <td>311.617128</td>\n",
       "      <td>179</td>\n",
       "      <td>552</td>\n",
       "    </tr>\n",
       "    <tr>\n",
       "      <th>Sports</th>\n",
       "      <td>52090.7695</td>\n",
       "      <td>329.688415</td>\n",
       "      <td>158</td>\n",
       "      <td>469</td>\n",
       "    </tr>\n",
       "    <tr>\n",
       "      <th>Books</th>\n",
       "      <td>46933.4135</td>\n",
       "      <td>314.989352</td>\n",
       "      <td>149</td>\n",
       "      <td>432</td>\n",
       "    </tr>\n",
       "  </tbody>\n",
       "</table>\n",
       "</div>"
      ],
      "text/plain": [
       "                  total_revenue  avg_revenue  total_quantity  total_orders\n",
       "product_category                                                          \n",
       "Electronics          80815.0300   299.314926             270           829\n",
       "Home & Garden        76753.6165   314.564002             244           756\n",
       "Clothing             55779.4660   311.617128             179           552\n",
       "Sports               52090.7695   329.688415             158           469\n",
       "Books                46933.4135   314.989352             149           432"
      ]
     },
     "execution_count": 5,
     "metadata": {},
     "output_type": "execute_result"
    }
   ],
   "source": [
    "# Rank categories by total revenue \n",
    "category_performence.sort_values(by='total_revenue', ascending=False)"
   ]
  },
  {
   "cell_type": "code",
   "execution_count": null,
   "id": "94e7a9e0",
   "metadata": {},
   "outputs": [
    {
     "data": {
      "text/plain": [
       "<BarContainer object of 5 artists>"
      ]
     },
     "execution_count": 7,
     "metadata": {},
     "output_type": "execute_result"
    },
    {
     "data": {
      "image/png": "[encoded data removed]",
      "text/plain": [
       "<Figure size 640x480 with 1 Axes>"
      ]
     },
     "metadata": {},
     "output_type": "display_data"
    }
   ],
   "source": [
    "# bar chart showing revenue by category\n",
    "\n",
    "#sns.barplot(data=category_performence, x=category_performence.index, y=category_performence.total_revenue)\n",
    "plt.bar(x=category_performence.index, height=category_performence.total_revenue)"
   ]
  },
  {
   "cell_type": "code",
   "execution_count": null,
   "id": "200aee70",
   "metadata": {},
   "outputs": [
    {
     "data": {
      "image/png": "[encoded data removed]",
      "text/plain": [
       "<Figure size 640x480 with 1 Axes>"
      ]
     },
     "metadata": {},
     "output_type": "display_data"
    }
   ],
   "source": [
    "# pie chart showing the percentage distribution of orders by category\n",
    "\n",
    "# category_performence['total_orders'].plot.pie(autopct='%1.1f%%')\n",
    "plt.pie(category_performence['total_quantity'],labels=category_performence.index, autopct='%1.1f%%')\n",
    "plt.show()\n"
   ]
  },
  {
   "cell_type": "code",
   "execution_count": null,
   "id": "e7c239ae",
   "metadata": {},
   "outputs": [],
   "source": [
    "# Identify the top 3 performing categories by revenue\n",
    "top_3_category= category_performence.sort_values(by='total_revenue', ascending=False).head(3)"
   ]
  },
  {
   "cell_type": "code",
   "execution_count": 10,
   "id": "9eea462a",
   "metadata": {},
   "outputs": [
    {
     "data": {
      "text/plain": [
       "<BarContainer object of 3 artists>"
      ]
     },
     "execution_count": 10,
     "metadata": {},
     "output_type": "execute_result"
    },
    {
     "data": {
      "image/png": "[encoded data removed]",
      "text/plain": [
       "<Figure size 640x480 with 1 Axes>"
      ]
     },
     "metadata": {},
     "output_type": "display_data"
    }
   ],
   "source": [
    "plt.barh(y=top_3_category.index, width=top_3_category.total_revenue)"
   ]
  },
  {
   "cell_type": "code",
   "execution_count": null,
   "id": "0da57348",
   "metadata": {},
   "outputs": [],
   "source": []
  }
 ],
 "metadata": {
  "kernelspec": {
   "display_name": "Python 3",
   "language": "python",
   "name": "python3"
  },
  "language_info": {
   "codemirror_mode": {
    "name": "ipython",
    "version": 3
   },
   "file_extension": ".py",
   "mimetype": "text/x-python",
   "name": "python",
   "nbconvert_exporter": "python",
   "pygments_lexer": "ipython3",
   "version": "3.13.3"
  }
 },
 "nbformat": 4,
 "nbformat_minor": 5
}
