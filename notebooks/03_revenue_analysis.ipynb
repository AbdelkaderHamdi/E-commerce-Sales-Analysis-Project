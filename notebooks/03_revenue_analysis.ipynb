{
 "cells": [
  {
   "cell_type": "code",
   "execution_count": 1,
   "id": "53506d67",
   "metadata": {},
   "outputs": [],
   "source": [
    "import pandas as pd\n",
    "import numpy as np\n",
    "from load_data import load_data"
   ]
  },
  {
   "cell_type": "code",
   "execution_count": 2,
   "id": "d92b3277",
   "metadata": {},
   "outputs": [],
   "source": [
    "df = load_data()"
   ]
  },
  {
   "cell_type": "code",
   "execution_count": null,
   "id": "de61fa86",
   "metadata": {},
   "outputs": [
    {
     "data": {
      "text/plain": [
       "np.float64(312372.3)"
      ]
     },
     "execution_count": 3,
     "metadata": {},
     "output_type": "execute_result"
    }
   ],
   "source": [
    "# Calculate total revenue from all orders\n",
    "total_revenue= df['final_amount'].sum().round(2)\n",
    "total_revenue\n"
   ]
  },
  {
   "cell_type": "code",
   "execution_count": null,
   "id": "3cd3030c",
   "metadata": {},
   "outputs": [
    {
     "data": {
      "text/plain": [
       "np.float64(312.37)"
      ]
     },
     "execution_count": 4,
     "metadata": {},
     "output_type": "execute_result"
    }
   ],
   "source": [
    "# Compute average order value across all transactions\n",
    "average_order_value = df['final_amount'].mean().round(2)\n",
    "average_order_value\n"
   ]
  },
  {
   "cell_type": "code",
   "execution_count": null,
   "id": "1a1e833a",
   "metadata": {},
   "outputs": [
    {
     "data": {
      "text/plain": [
       "np.int64(1000)"
      ]
     },
     "execution_count": 5,
     "metadata": {},
     "output_type": "execute_result"
    }
   ],
   "source": [
    "# Find the total number of orders processed\n",
    "total_number_orders = df['order_id'].count()\n",
    "total_number_orders\n"
   ]
  },
  {
   "cell_type": "code",
   "execution_count": null,
   "id": "f47131f8",
   "metadata": {},
   "outputs": [
    {
     "data": {
      "text/plain": [
       "245"
      ]
     },
     "execution_count": 6,
     "metadata": {},
     "output_type": "execute_result"
    }
   ],
   "source": [
    "# Determine the total number of unique customers\n",
    "total_customers  = df['customer_id'].nunique()\n",
    "total_customers\n"
   ]
  },
  {
   "cell_type": "code",
   "execution_count": null,
   "id": "4f010078",
   "metadata": {},
   "outputs": [
    {
     "data": {
      "text/plain": [
       "customer_id\n",
       "CUST007    5.000000\n",
       "CUST026    5.000000\n",
       "CUST032    5.000000\n",
       "CUST057    5.000000\n",
       "CUST133    5.000000\n",
       "CUST193    5.000000\n",
       "CUST176    4.666667\n",
       "CUST179    4.666667\n",
       "CUST068    4.500000\n",
       "CUST098    4.500000\n",
       "Name: quantity, dtype: float64"
      ]
     },
     "execution_count": 7,
     "metadata": {},
     "output_type": "execute_result"
    }
   ],
   "source": [
    "# Calculate the average quantity per order\n",
    "average_quantity_per_customer = df.groupby('customer_id')['quantity'].mean()\n",
    "\n",
    "# first 10 highest average quantity per customers\n",
    "average_quantity_per_customer.nlargest(10)"
   ]
  },
  {
   "cell_type": "code",
   "execution_count": null,
   "id": "16242723",
   "metadata": {},
   "outputs": [
    {
     "name": "stdout",
     "output_type": "stream",
     "text": [
      "date range : 01/01/2023 - 31/12/2023.\n"
     ]
    }
   ],
   "source": [
    "# Identify the date range of the dataset\n",
    "start_date = df['order_date'].min()\n",
    "end_date = df['order_date'].max()\n",
    "print(f'date range : {start_date} - {end_date}.')"
   ]
  }
 ],
 "metadata": {
  "kernelspec": {
   "display_name": "Python 3",
   "language": "python",
   "name": "python3"
  },
  "language_info": {
   "codemirror_mode": {
    "name": "ipython",
    "version": 3
   },
   "file_extension": ".py",
   "mimetype": "text/x-python",
   "name": "python",
   "nbconvert_exporter": "python",
   "pygments_lexer": "ipython3",
   "version": "3.13.3"
  }
 },
 "nbformat": 4,
 "nbformat_minor": 5
}
